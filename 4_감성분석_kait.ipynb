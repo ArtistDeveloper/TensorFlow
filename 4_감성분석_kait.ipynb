{
  "nbformat": 4,
  "nbformat_minor": 0,
  "metadata": {
    "colab": {
      "name": "4_감성분석_kait.ipynb",
      "provenance": [],
      "collapsed_sections": [],
      "include_colab_link": true
    },
    "kernelspec": {
      "name": "python3",
      "display_name": "Python 3"
    },
    "accelerator": "GPU"
  },
  "cells": [
    {
      "cell_type": "markdown",
      "metadata": {
        "id": "view-in-github",
        "colab_type": "text"
      },
      "source": [
        "<a href=\"https://colab.research.google.com/github/ArtistDeveloper/TensorFlow/blob/master/4_%EA%B0%90%EC%84%B1%EB%B6%84%EC%84%9D_kait.ipynb\" target=\"_parent\"><img src=\"https://colab.research.google.com/assets/colab-badge.svg\" alt=\"Open In Colab\"/></a>"
      ]
    },
    {
      "cell_type": "markdown",
      "metadata": {
        "id": "NRU4um4C97xH",
        "colab_type": "text"
      },
      "source": [
        "# 사전을 이용한 감성분석"
      ]
    },
    {
      "cell_type": "code",
      "metadata": {
        "id": "U-C4fLU196mO",
        "colab_type": "code",
        "colab": {
          "base_uri": "https://localhost:8080/",
          "height": 35
        },
        "outputId": "76267a33-b594-4c29-b5e6-5278ff80a23b"
      },
      "source": [
        "#from google.colab import auth\n",
        "#auth.authenticate_user()\n",
        "\n",
        "from google.colab import drive\n",
        "drive.mount('/content/gdrive')"
      ],
      "execution_count": null,
      "outputs": [
        {
          "output_type": "stream",
          "text": [
            "Mounted at /content/gdrive\n"
          ],
          "name": "stdout"
        }
      ]
    },
    {
      "cell_type": "code",
      "metadata": {
        "id": "AfWgddcj-Fzf",
        "colab_type": "code",
        "colab": {
          "base_uri": "https://localhost:8080/",
          "height": 1000
        },
        "outputId": "5849aed1-f623-4b25-afdf-5aa24789f7b9"
      },
      "source": [
        "# 형태소분석기 관련 설치\n",
        "!apt-get update\n",
        "!apt-get install g++ openjdk-8-jdk\n",
        "\n",
        "!pip install JPype1\n",
        "!pip install rhinoMorph"
      ],
      "execution_count": null,
      "outputs": [
        {
          "output_type": "stream",
          "text": [
            "\r0% [Working]\r            \rHit:1 http://ppa.launchpad.net/graphics-drivers/ppa/ubuntu bionic InRelease\n",
            "\r0% [Connecting to archive.ubuntu.com (91.189.88.152)] [Connecting to security.u\r                                                                               \rHit:2 http://archive.ubuntu.com/ubuntu bionic InRelease\n",
            "\r0% [Waiting for headers] [Connecting to security.ubuntu.com (91.189.91.39)] [Wa\r0% [1 InRelease gpgv 21.3 kB] [Waiting for headers] [Connecting to security.ubu\r                                                                               \rGet:3 http://ppa.launchpad.net/marutter/c2d4u3.5/ubuntu bionic InRelease [15.4 kB]\n",
            "\r0% [1 InRelease gpgv 21.3 kB] [Waiting for headers] [Connecting to security.ubu\r                                                                               \rGet:4 http://archive.ubuntu.com/ubuntu bionic-updates InRelease [88.7 kB]\n",
            "\r0% [1 InRelease gpgv 21.3 kB] [4 InRelease 14.2 kB/88.7 kB 16%] [Connecting to \r0% [1 InRelease gpgv 21.3 kB] [4 InRelease 14.2 kB/88.7 kB 16%] [Connecting to \r0% [1 InRelease gpgv 21.3 kB] [Waiting for headers] [Connecting to security.ubu\r                                                                               \rGet:5 http://archive.ubuntu.com/ubuntu bionic-backports InRelease [74.6 kB]\n",
            "Get:6 https://cloud.r-project.org/bin/linux/ubuntu bionic-cran35/ InRelease [3,626 B]\n",
            "Get:7 http://security.ubuntu.com/ubuntu bionic-security InRelease [88.7 kB]\n",
            "Ign:8 https://developer.download.nvidia.com/compute/cuda/repos/ubuntu1804/x86_64  InRelease\n",
            "Ign:9 https://developer.download.nvidia.com/compute/machine-learning/repos/ubuntu1804/x86_64  InRelease\n",
            "Hit:10 https://developer.download.nvidia.com/compute/cuda/repos/ubuntu1804/x86_64  Release\n",
            "Hit:11 https://developer.download.nvidia.com/compute/machine-learning/repos/ubuntu1804/x86_64  Release\n",
            "Get:12 http://ppa.launchpad.net/marutter/c2d4u3.5/ubuntu bionic/main Sources [1,867 kB]\n",
            "Get:13 http://ppa.launchpad.net/marutter/c2d4u3.5/ubuntu bionic/main amd64 Packages [901 kB]\n",
            "Get:14 http://archive.ubuntu.com/ubuntu bionic-updates/main amd64 Packages [1,385 kB]\n",
            "Get:15 http://archive.ubuntu.com/ubuntu bionic-updates/universe amd64 Packages [1,429 kB]\n",
            "Get:18 http://security.ubuntu.com/ubuntu bionic-security/main amd64 Packages [1,089 kB]\n",
            "Get:19 http://security.ubuntu.com/ubuntu bionic-security/universe amd64 Packages [901 kB]\n",
            "Fetched 7,844 kB in 2s (3,506 kB/s)\n",
            "Reading package lists... Done\n",
            "Reading package lists... Done\n",
            "Building dependency tree       \n",
            "Reading state information... Done\n",
            "g++ is already the newest version (4:7.4.0-1ubuntu2.3).\n",
            "g++ set to manually installed.\n",
            "The following additional packages will be installed:\n",
            "  fonts-dejavu-core fonts-dejavu-extra libatk-wrapper-java\n",
            "  libatk-wrapper-java-jni libxxf86dga1 openjdk-8-jdk-headless openjdk-8-jre\n",
            "  openjdk-8-jre-headless x11-utils\n",
            "Suggested packages:\n",
            "  openjdk-8-demo openjdk-8-source visualvm icedtea-8-plugin libnss-mdns\n",
            "  fonts-ipafont-gothic fonts-ipafont-mincho fonts-wqy-microhei\n",
            "  fonts-wqy-zenhei fonts-indic mesa-utils\n",
            "The following NEW packages will be installed:\n",
            "  fonts-dejavu-core fonts-dejavu-extra libatk-wrapper-java\n",
            "  libatk-wrapper-java-jni libxxf86dga1 openjdk-8-jdk openjdk-8-jdk-headless\n",
            "  openjdk-8-jre openjdk-8-jre-headless x11-utils\n",
            "0 upgraded, 10 newly installed, 0 to remove and 12 not upgraded.\n",
            "Need to get 40.7 MB of archives.\n",
            "After this operation, 153 MB of additional disk space will be used.\n",
            "Get:1 http://archive.ubuntu.com/ubuntu bionic/main amd64 libxxf86dga1 amd64 2:1.1.4-1 [13.7 kB]\n",
            "Get:2 http://archive.ubuntu.com/ubuntu bionic/main amd64 fonts-dejavu-core all 2.37-1 [1,041 kB]\n",
            "Get:3 http://archive.ubuntu.com/ubuntu bionic/main amd64 fonts-dejavu-extra all 2.37-1 [1,953 kB]\n",
            "Get:4 http://archive.ubuntu.com/ubuntu bionic/main amd64 x11-utils amd64 7.7+3build1 [196 kB]\n",
            "Get:5 http://archive.ubuntu.com/ubuntu bionic/main amd64 libatk-wrapper-java all 0.33.3-20ubuntu0.1 [34.7 kB]\n",
            "Get:6 http://archive.ubuntu.com/ubuntu bionic/main amd64 libatk-wrapper-java-jni amd64 0.33.3-20ubuntu0.1 [28.3 kB]\n",
            "Get:7 http://archive.ubuntu.com/ubuntu bionic-updates/universe amd64 openjdk-8-jre-headless amd64 8u265-b01-0ubuntu2~18.04 [27.5 MB]\n",
            "Get:8 http://archive.ubuntu.com/ubuntu bionic-updates/universe amd64 openjdk-8-jre amd64 8u265-b01-0ubuntu2~18.04 [69.6 kB]\n",
            "Get:9 http://archive.ubuntu.com/ubuntu bionic-updates/universe amd64 openjdk-8-jdk-headless amd64 8u265-b01-0ubuntu2~18.04 [8,262 kB]\n",
            "Get:10 http://archive.ubuntu.com/ubuntu bionic-updates/universe amd64 openjdk-8-jdk amd64 8u265-b01-0ubuntu2~18.04 [1,610 kB]\n",
            "Fetched 40.7 MB in 1s (76.2 MB/s)\n",
            "Selecting previously unselected package libxxf86dga1:amd64.\n",
            "(Reading database ... 144600 files and directories currently installed.)\n",
            "Preparing to unpack .../0-libxxf86dga1_2%3a1.1.4-1_amd64.deb ...\n",
            "Unpacking libxxf86dga1:amd64 (2:1.1.4-1) ...\n",
            "Selecting previously unselected package fonts-dejavu-core.\n",
            "Preparing to unpack .../1-fonts-dejavu-core_2.37-1_all.deb ...\n",
            "Unpacking fonts-dejavu-core (2.37-1) ...\n",
            "Selecting previously unselected package fonts-dejavu-extra.\n",
            "Preparing to unpack .../2-fonts-dejavu-extra_2.37-1_all.deb ...\n",
            "Unpacking fonts-dejavu-extra (2.37-1) ...\n",
            "Selecting previously unselected package x11-utils.\n",
            "Preparing to unpack .../3-x11-utils_7.7+3build1_amd64.deb ...\n",
            "Unpacking x11-utils (7.7+3build1) ...\n",
            "Selecting previously unselected package libatk-wrapper-java.\n",
            "Preparing to unpack .../4-libatk-wrapper-java_0.33.3-20ubuntu0.1_all.deb ...\n",
            "Unpacking libatk-wrapper-java (0.33.3-20ubuntu0.1) ...\n",
            "Selecting previously unselected package libatk-wrapper-java-jni:amd64.\n",
            "Preparing to unpack .../5-libatk-wrapper-java-jni_0.33.3-20ubuntu0.1_amd64.deb ...\n",
            "Unpacking libatk-wrapper-java-jni:amd64 (0.33.3-20ubuntu0.1) ...\n",
            "Selecting previously unselected package openjdk-8-jre-headless:amd64.\n",
            "Preparing to unpack .../6-openjdk-8-jre-headless_8u265-b01-0ubuntu2~18.04_amd64.deb ...\n",
            "Unpacking openjdk-8-jre-headless:amd64 (8u265-b01-0ubuntu2~18.04) ...\n",
            "Selecting previously unselected package openjdk-8-jre:amd64.\n",
            "Preparing to unpack .../7-openjdk-8-jre_8u265-b01-0ubuntu2~18.04_amd64.deb ...\n",
            "Unpacking openjdk-8-jre:amd64 (8u265-b01-0ubuntu2~18.04) ...\n",
            "Selecting previously unselected package openjdk-8-jdk-headless:amd64.\n",
            "Preparing to unpack .../8-openjdk-8-jdk-headless_8u265-b01-0ubuntu2~18.04_amd64.deb ...\n",
            "Unpacking openjdk-8-jdk-headless:amd64 (8u265-b01-0ubuntu2~18.04) ...\n",
            "Selecting previously unselected package openjdk-8-jdk:amd64.\n",
            "Preparing to unpack .../9-openjdk-8-jdk_8u265-b01-0ubuntu2~18.04_amd64.deb ...\n",
            "Unpacking openjdk-8-jdk:amd64 (8u265-b01-0ubuntu2~18.04) ...\n",
            "Setting up fonts-dejavu-core (2.37-1) ...\n",
            "Setting up libxxf86dga1:amd64 (2:1.1.4-1) ...\n",
            "Setting up fonts-dejavu-extra (2.37-1) ...\n",
            "Setting up openjdk-8-jre-headless:amd64 (8u265-b01-0ubuntu2~18.04) ...\n",
            "update-alternatives: using /usr/lib/jvm/java-8-openjdk-amd64/jre/bin/orbd to provide /usr/bin/orbd (orbd) in auto mode\n",
            "update-alternatives: using /usr/lib/jvm/java-8-openjdk-amd64/jre/bin/servertool to provide /usr/bin/servertool (servertool) in auto mode\n",
            "update-alternatives: using /usr/lib/jvm/java-8-openjdk-amd64/jre/bin/tnameserv to provide /usr/bin/tnameserv (tnameserv) in auto mode\n",
            "Setting up openjdk-8-jdk-headless:amd64 (8u265-b01-0ubuntu2~18.04) ...\n",
            "update-alternatives: using /usr/lib/jvm/java-8-openjdk-amd64/bin/idlj to provide /usr/bin/idlj (idlj) in auto mode\n",
            "update-alternatives: using /usr/lib/jvm/java-8-openjdk-amd64/bin/wsimport to provide /usr/bin/wsimport (wsimport) in auto mode\n",
            "update-alternatives: using /usr/lib/jvm/java-8-openjdk-amd64/bin/jsadebugd to provide /usr/bin/jsadebugd (jsadebugd) in auto mode\n",
            "update-alternatives: using /usr/lib/jvm/java-8-openjdk-amd64/bin/native2ascii to provide /usr/bin/native2ascii (native2ascii) in auto mode\n",
            "update-alternatives: using /usr/lib/jvm/java-8-openjdk-amd64/bin/javah to provide /usr/bin/javah (javah) in auto mode\n",
            "update-alternatives: using /usr/lib/jvm/java-8-openjdk-amd64/bin/clhsdb to provide /usr/bin/clhsdb (clhsdb) in auto mode\n",
            "update-alternatives: using /usr/lib/jvm/java-8-openjdk-amd64/bin/jhat to provide /usr/bin/jhat (jhat) in auto mode\n",
            "update-alternatives: using /usr/lib/jvm/java-8-openjdk-amd64/bin/extcheck to provide /usr/bin/extcheck (extcheck) in auto mode\n",
            "update-alternatives: using /usr/lib/jvm/java-8-openjdk-amd64/bin/hsdb to provide /usr/bin/hsdb (hsdb) in auto mode\n",
            "update-alternatives: using /usr/lib/jvm/java-8-openjdk-amd64/bin/schemagen to provide /usr/bin/schemagen (schemagen) in auto mode\n",
            "update-alternatives: using /usr/lib/jvm/java-8-openjdk-amd64/bin/xjc to provide /usr/bin/xjc (xjc) in auto mode\n",
            "update-alternatives: using /usr/lib/jvm/java-8-openjdk-amd64/bin/wsgen to provide /usr/bin/wsgen (wsgen) in auto mode\n",
            "Setting up x11-utils (7.7+3build1) ...\n",
            "Setting up libatk-wrapper-java (0.33.3-20ubuntu0.1) ...\n",
            "Setting up libatk-wrapper-java-jni:amd64 (0.33.3-20ubuntu0.1) ...\n",
            "Setting up openjdk-8-jre:amd64 (8u265-b01-0ubuntu2~18.04) ...\n",
            "update-alternatives: using /usr/lib/jvm/java-8-openjdk-amd64/jre/bin/policytool to provide /usr/bin/policytool (policytool) in auto mode\n",
            "Setting up openjdk-8-jdk:amd64 (8u265-b01-0ubuntu2~18.04) ...\n",
            "update-alternatives: using /usr/lib/jvm/java-8-openjdk-amd64/bin/appletviewer to provide /usr/bin/appletviewer (appletviewer) in auto mode\n",
            "update-alternatives: using /usr/lib/jvm/java-8-openjdk-amd64/bin/jconsole to provide /usr/bin/jconsole (jconsole) in auto mode\n",
            "Processing triggers for man-db (2.8.3-2ubuntu0.1) ...\n",
            "Processing triggers for hicolor-icon-theme (0.17-2) ...\n",
            "Processing triggers for fontconfig (2.12.6-0ubuntu2) ...\n",
            "Processing triggers for mime-support (3.60ubuntu1) ...\n",
            "Processing triggers for libc-bin (2.27-3ubuntu1.2) ...\n",
            "/sbin/ldconfig.real: /usr/local/lib/python3.6/dist-packages/ideep4py/lib/libmkldnn.so.0 is not a symbolic link\n",
            "\n",
            "Collecting JPype1\n",
            "\u001b[?25l  Downloading https://files.pythonhosted.org/packages/8b/f7/a368401e630f0e390dd0e62c39fb928e5b23741b53c2360ee7d376660927/JPype1-1.0.2-cp36-cp36m-manylinux2010_x86_64.whl (3.8MB)\n",
            "\u001b[K     |████████████████████████████████| 3.8MB 8.2MB/s \n",
            "\u001b[?25hRequirement already satisfied: typing-extensions; python_version < \"3.8\" in /usr/local/lib/python3.6/dist-packages (from JPype1) (3.7.4.3)\n",
            "Installing collected packages: JPype1\n",
            "Successfully installed JPype1-1.0.2\n",
            "Collecting rhinoMorph\n",
            "\u001b[?25l  Downloading https://files.pythonhosted.org/packages/1c/ee/998f3704e55a38a77c5ac271862d6fcd0605a17b202eff683b76545def8c/rhinoMorph-3.7.8.7-py3-none-any.whl (3.0MB)\n",
            "\u001b[K     |████████████████████████████████| 3.0MB 9.5MB/s \n",
            "\u001b[?25hInstalling collected packages: rhinoMorph\n",
            "Successfully installed rhinoMorph-3.7.8.7\n"
          ],
          "name": "stdout"
        }
      ]
    },
    {
      "cell_type": "code",
      "metadata": {
        "id": "zC1IjIgg-HAK",
        "colab_type": "code",
        "colab": {
          "base_uri": "https://localhost:8080/",
          "height": 35
        },
        "outputId": "bf3cbad9-91f9-4ad7-abd1-1fabb58ad55f"
      },
      "source": [
        "# 경로 변경\n",
        "%cd /content/gdrive/My\\ Drive/pytest/"
      ],
      "execution_count": null,
      "outputs": [
        {
          "output_type": "stream",
          "text": [
            "/content/gdrive/My Drive/pytest\n"
          ],
          "name": "stdout"
        }
      ]
    },
    {
      "cell_type": "code",
      "metadata": {
        "id": "P_0US14G-IUp",
        "colab_type": "code",
        "colab": {
          "base_uri": "https://localhost:8080/",
          "height": 107
        },
        "outputId": "a1ec9c17-6af1-407c-c996-21bc48ef04ff"
      },
      "source": [
        "!ls"
      ],
      "execution_count": null,
      "outputs": [
        {
          "output_type": "stream",
          "text": [
            "네이버뉴스-생활문화_다중  negative.txt\t       ratings_small.txt  wiki_test.txt\n",
            "aclImdb_v1_small\t  newfile2.txt\t       similarity\t  word2vec\n",
            "fra-eng\t\t\t  newfile.csv\t       test.csv\n",
            "iris.csv\t\t  positive.txt\t       김소월시.txt\n",
            "kor-eng\t\t\t  ratings_morphed.txt  윤동주시.txt\n"
          ],
          "name": "stdout"
        }
      ]
    },
    {
      "cell_type": "code",
      "metadata": {
        "id": "QorRG2yCF5Jx",
        "colab_type": "code",
        "colab": {}
      },
      "source": [
        "# 데이터 로딩\n",
        "def read_data(filename, encoding='cp949'):                # 읽기 함수 정의\n",
        "  with open(filename, 'r', encoding=encoding) as f:\n",
        "    data = [line.split('\\t') for line in f.read().splitlines()]\n",
        "    data = data[1:]                 # txt 파일의 헤더(id document label)는 제외하기\n",
        "  return data\n",
        "\n",
        "def write_data(data, filename, encoding='cp949'):         # 쓰기 함수도 정의\n",
        "  with open(filename, 'w', encoding=encoding) as f:\n",
        "    f.write(data)\n",
        "\n",
        "#data = read_data('/content/gdrive/My Drive/pytest/ratings_small.txt', encoding='cp949')\n",
        "data = read_data('ratings_small.txt', encoding='cp949')         # 전체파일은 ratings.txt (긍정 1만, 부정 1만)"
      ],
      "execution_count": null,
      "outputs": []
    },
    {
      "cell_type": "code",
      "metadata": {
        "id": "i-qxMyR_m0tE",
        "colab_type": "code",
        "colab": {
          "base_uri": "https://localhost:8080/",
          "height": 35
        },
        "outputId": "a0726447-50fe-47ee-a80b-93022e4b0879"
      },
      "source": [
        "print(len(data))"
      ],
      "execution_count": null,
      "outputs": [
        {
          "output_type": "stream",
          "text": [
            "500\n"
          ],
          "name": "stdout"
        }
      ]
    },
    {
      "cell_type": "code",
      "metadata": {
        "id": "vKl2hToAGC5p",
        "colab_type": "code",
        "colab": {
          "base_uri": "https://localhost:8080/",
          "height": 71
        },
        "outputId": "c08ed6a7-e7e9-4623-f234-a1e8d64f5624"
      },
      "source": [
        "# 전체 데이터 형태소 분석\n",
        "import rhinoMorph\n",
        "rn = rhinoMorph.startRhino()\n",
        "\n",
        "morphed_data = ''\n",
        "for data_each in data:\n",
        "  morphed_data_each = rhinoMorph.onlyMorph_list(rn, data_each[1], pos=['NNG', 'NNP', 'VV', 'VA', 'XR', 'IC', 'MM', 'MAG', 'MAJ'])\n",
        "  joined_data_each = ' '.join(morphed_data_each)\t\t\t        # 문자열을 하나로 연결\n",
        "  if joined_data_each:                                      \t# 내용이 있는 경우만 저장하게 함\n",
        "    morphed_data += data_each[0]+\"\\t\"+joined_data_each+\"\\t\"+data_each[2]+\"\\n\"\n",
        "    \n",
        "# 형태소 분석된 파일 저장\n",
        "write_data(morphed_data, 'ratings_morphed.txt', encoding='cp949')"
      ],
      "execution_count": null,
      "outputs": [
        {
          "output_type": "stream",
          "text": [
            "filepath:  /usr/local/lib/python3.6/dist-packages\n",
            "classpath:  /usr/local/lib/python3.6/dist-packages/rhinoMorph/lib/rhino.jar\n",
            "RHINO started!\n"
          ],
          "name": "stdout"
        }
      ]
    },
    {
      "cell_type": "code",
      "metadata": {
        "id": "iVJR21gV-J7-",
        "colab_type": "code",
        "colab": {
          "base_uri": "https://localhost:8080/",
          "height": 91
        },
        "outputId": "55f8af40-49c3-4b4e-f6b1-a29fb2145485"
      },
      "source": [
        "# 형태소 분석된 데이터 로딩\n",
        "data = read_data('ratings_morphed.txt', encoding='cp949')\n",
        "\n",
        "print(len(data))   \n",
        "print(len(data[0])) \n",
        "print(data[0])"
      ],
      "execution_count": null,
      "outputs": [
        {
          "output_type": "stream",
          "text": [
            "494\n",
            "3\n",
            "['8132799', '디자인 배우 학생 외국 디자이너 일구 전통 통하 발전 문화 산업 부럽 사실 우리나라 그 어렵 시절 끝 열정 지키 노라노 같 전통 있 같 사람 꿈 꾸 이루 나가 있 감사', '1']\n"
          ],
          "name": "stdout"
        }
      ]
    },
    {
      "cell_type": "code",
      "metadata": {
        "id": "s0eXWQPQ-LPC",
        "colab_type": "code",
        "colab": {
          "base_uri": "https://localhost:8080/",
          "height": 73
        },
        "outputId": "d7aa8fa0-dce0-4f3e-86f5-5c758a5bda87"
      },
      "source": [
        "# 감정사전 읽기\n",
        "data_id = [line[0] for line in data]       \t\t# 데이터 id\n",
        "data_text = [line[1] for line in data]     \t\t# 데이터 본문\n",
        "data_senti = [line[2] for line in data]    \t\t# 데이터 긍부정 부분\n",
        "\n",
        "positive = read_data('positive.txt')\t\t      # 긍정 감정사전 읽기\n",
        "negative = read_data('negative.txt')\t\t      # 부정 감정사전 읽기\n",
        "\n",
        "print(\"positive:\", positive)\n",
        "print(\"negatvie:\", negative)\n",
        "                     \n",
        "pos_found = []                                # 각 문장에서 발견될 긍정어의 개수 \n",
        "neg_found = []                                # 각 문장에서 발견될 부정어의 개수 "
      ],
      "execution_count": null,
      "outputs": [
        {
          "output_type": "stream",
          "text": [
            "positive: [['가능'], ['가능하'], ['가락'], ['가치'], ['간단하'], ['간단히'], ['간직하'], ['간호'], ['간호하'], ['감동'], ['감사'], ['감사하'], ['감싸'], ['감탄하'], ['강화'], ['강화되'], ['강화하'], ['갚'], ['개방되'], ['개방하'], ['개선'], ['개선되'], ['개선하'], ['개혁'], ['거침없이'], ['건강'], ['건장하'], ['걸맞'], ['격려'], ['결심'], ['결심하'], ['결혼'], ['결혼하'], ['경감'], ['경감되'], ['공언'], ['공언하'], ['공정하'], ['관대하'], ['관리되'], ['굉장하'], ['구원'], ['굳'], ['귀엽'], ['귀하'], ['균형'], ['그치'], ['극복'], ['극복하'], ['근절되'], ['근절하'], ['긁'], ['긍정'], ['기념'], ['기대'], ['기부하'], ['기쁘'], ['기쁨'], ['기사도'], ['기적'], ['기회'], ['깨끗하'], ['꼼꼼하'], ['꽃'], ['꿀'], ['끌리'], ['나아가'], ['낙'], ['낫'], ['넓'], ['넓히'], ['노력'], ['노력하'], ['논리'], ['논의'], ['논의하'], ['놀랍'], ['놀이'], ['늘리'], ['다이아몬드'], ['다정'], ['다행히'], ['단장'], ['달래'], ['달콤하'], ['대단'], ['대담하'], ['대화'], ['덕'], ['도덕'], ['도전'], ['독립'], ['독립되'], ['돌보'], ['돕'], ['동의'], ['동의하'], ['되살리'], ['드라이브'], ['따르'], ['뚜렷하'], ['뛰어나'], ['띄우'], ['마법'], ['만족'], ['만족하'], ['맑'], ['맑음'], ['맛'], ['맛있'], ['맞'], ['맞추'], ['매력'], ['멋지'], ['메이저'], ['면밀히'], ['명백히'], ['명시되'], ['명예'], ['명확하'], ['모범'], ['무료'], ['미'], ['미모'], ['미소'], ['믿'], ['바람직하'], ['바르'], ['반짝'], ['반짝이'], ['받아들이'], ['발견'], ['발견되'], ['발견하'], ['발의'], ['발의하'], ['발전'], ['발전하'], ['발휘하'], ['밝'], ['밝히'], ['벌'], ['벗어나'], ['베풀'], ['보강'], ['보완'], ['보완하'], ['보조'], ['보호'], ['복구되'], ['복구하'], ['본격'], ['부자'], ['분명'], ['분명히'], ['분배'], ['분배하'], ['빛'], ['빛나'], ['빠르'], ['사랑'], ['사랑하'], ['사려'], ['사로잡'], ['살피'], ['상의하'], ['상호'], ['새롭'], ['생명'], ['생생'], ['생생하'], ['생존'], ['샷'], ['선량하'], ['선명하'], ['선의'], ['설명'], ['설명하'], ['성공'], ['성공하'], ['성숙되'], ['성실하'], ['성장'], ['성장하'], ['세련되'], ['섹시'], ['소개'], ['소개되'], ['소개하'], ['소탕하'], ['소화하'], ['손쉽'], ['솔직하'], ['수락'], ['수용하'], ['수월하'], ['수익'], ['순조'], ['쉽'], ['스타'], ['승리'], ['승인하'], ['시식하'], ['시정되'], ['신뢰'], ['신뢰하'], ['신선하'], ['신속하'], ['신용'], ['신중하'], ['신청'], ['신청하'], ['실증하'], ['실현'], ['싸'], ['싸게'], ['쏘'], ['아름답'], ['안심'], ['안심되'], ['안심하'], ['안전'], ['안전하'], ['안정'], ['안정되'], ['애인'], ['애정'], ['약속'], ['약속하'], ['얌전하'], ['양보'], ['양보하'], ['얻'], ['엄격하'], ['에너지'], ['에티켓'], ['여신'], ['연락'], ['연락하'], ['연습'], ['연애'], ['연애하'], ['연인'], ['열심히'], ['예쁘'], ['예의'], ['온건'], ['옳'], ['완전히'], ['완화'], ['완화되'], ['완화하'], ['용서하'], ['우수'], ['우호'], ['운'], ['웃'], ['웃음'], ['원하'], ['위대하'], ['위안'], ['위엄'], ['유력'], ['유력하'], ['유연'], ['유연하'], ['유용하'], ['유쾌하'], ['유행하'], ['응하'], ['이루'], ['이해'], ['이해하'], ['익숙하'], ['인가'], ['인기'], ['인정'], ['인정하'], ['인증'], ['일관하'], ['일조하'], ['일찍'], ['입증'], ['입증되'], ['입증하'], ['자'], ['자발'], ['자비'], ['자선'], ['자세하'], ['자유'], ['자유로이'], ['잘'], ['장수'], ['재미있'], ['적극'], ['적당하'], ['적법'], ['적응'], ['적응하'], ['적절'], ['적정'], ['적정하'], ['적합하'], ['절감'], ['절감하'], ['절약하'], ['젊은'], ['젊음'], ['점검'], ['점검하'], ['정당'], ['정당하'], ['정밀'], ['정상'], ['정의'], ['정착'], ['정착되'], ['정착하'], ['정확하'], ['정확히'], ['제거하'], ['제휴'], ['제휴하'], ['조심하'], ['조언'], ['조언하'], ['조용'], ['조용히'], ['조율하'], ['조절'], ['조절하'], ['조정'], ['조정되'], ['조정하'], ['조치'], ['조치하'], ['조화'], ['존경'], ['존경하'], ['좋'], ['좋아하'], ['주어지'], ['준법'], ['준수'], ['중요'], ['중요하'], ['즐겁'], ['즐기'], ['증대'], ['증대되'], ['증명하'], ['지성'], ['지키'], ['지혜'], ['진실'], ['진심'], ['집중'], ['집중되'], ['집중하'], ['차선'], ['찬성'], ['찬성하'], ['참'], ['채우'], ['챔피언'], ['천사'], ['철저하'], ['철저히'], ['철학'], ['청결'], ['청하'], ['초월하'], ['촉진하'], ['최고'], ['최대한'], ['최상'], ['최선'], ['최적'], ['추구하'], ['추억'], ['추천'], ['추천하'], ['축적하'], ['축제'], ['축하하'], ['충분'], ['충분하'], ['충분히'], ['충성'], ['취득'], ['취득하'], ['취지'], ['취하'], ['친구'], ['친절'], ['친절하'], ['칭찬'], ['칭찬하'], ['캡'], ['크'], ['클래스'], ['키스'], ['타당'], ['탁월하'], ['탑'], ['태우'], ['통과'], ['통과되'], ['통과하'], ['통하'], ['통행'], ['특별'], ['특별하'], ['팁'], ['파티'], ['팔리'], ['편리'], ['편리하'], ['편의'], ['포인트'], ['풀'], ['품'], ['프리미엄'], ['할인'], ['할인되'], ['할인하'], ['합리'], ['합법'], ['합의'], ['합의하'], ['해제'], ['해제되'], ['해제하'], ['핵심'], ['행복'], ['행복하'], ['행진'], ['향'], ['허가'], ['허락'], ['허락하'], ['허용'], ['허용되'], ['허용하'], ['혁신'], ['협력'], ['협력하'], ['협약'], ['호위'], ['화려하'], ['확립'], ['확실하'], ['확실히'], ['확인'], ['확인되'], ['확인하'], ['환영'], ['환영하'], ['활약하'], ['횡재하'], ['후끈'], ['휴식'], ['흥겹']]\n",
            "negatvie: [['가로막'], ['가로지르'], ['가리'], ['가명'], ['가시'], ['가열'], ['가열되'], ['간섭하'], ['간신히'], ['갇히'], ['감수하'], ['감시'], ['감옥'], ['감추'], ['갑자기'], ['강간'], ['강도'], ['강력'], ['강력하'], ['강요'], ['강요하'], ['강제'], ['강제하'], ['개'], ['거꾸로'], ['거부'], ['거부하'], ['거세'], ['거절'], ['거절하'], ['거짓말'], ['거칠'], ['걱정'], ['걱정거리'], ['걱정되'], ['걱정하'], ['겁'], ['격렬하'], ['격분'], ['견디'], ['견인'], ['견인차'], ['견인하'], ['견적'], ['경계'], ['경계하'], ['경고'], ['경쟁'], ['경쟁하'], ['고민'], ['고민하'], ['고발'], ['고발하'], ['고백'], ['고백하'], ['고생'], ['고생하'], ['고소'], ['고의'], ['고장'], ['고집'], ['고통'], ['곤란하'], ['공격'], ['공격하'], ['공포'], ['과다'], ['과다하'], ['과도하'], ['과시하'], ['과실'], ['과잉'], ['과장'], ['관계없'], ['관료'], ['괴롭'], ['괴롭히'], ['교도소'], ['구걸하'], ['구기'], ['구르'], ['구리'], ['구멍'], ['구속'], ['구속하'], ['구타'], ['구토'], ['구형'], ['구형하'], ['굴욕'], ['귀머거리'], ['귀찮'], ['균'], ['그늘'], ['그만두'], ['그치'], ['극성'], ['금지'], ['금지되'], ['금지하'], ['급등'], ['급사'], ['급증'], ['급증하'], ['급하'], ['기생하'], ['기소'], ['기소되'], ['기소하'], ['기웃거리'], ['기침'], ['기피'], ['기피하'], ['긴급'], ['긴장되'], ['까'], ['깨'], ['깨지'], ['꼬리'], ['꼬이'], ['꼬집'], ['꼴'], ['끊어지'], ['끌어내'], ['끼어들'], ['나쁘'], ['난색'], ['난처하'], ['난폭'], ['난해하'], ['납치'], ['낭비'], ['낭비되'], ['낭비하'], ['내뿜'], ['내시'], ['내전'], ['내쫓'], ['냄새'], ['냉담하'], ['너무'], ['너무하'], ['넘'], ['년'], ['노골'], ['노릇'], ['노예'], ['노출'], ['노출되'], ['노출하'], ['논쟁'], ['놓치'], ['누락'], ['누락되'], ['느리'], ['느슨하'], ['늦'], ['다치'], ['단정'], ['달아나'], ['담'], ['당장'], ['당황'], ['당황하'], ['대가리'], ['대포'], ['더럽'], ['덧없'], ['도망치'], ['도박'], ['도주'], ['독설'], ['독점'], ['독점하'], ['돌연'], ['돌진하'], ['동정'], ['동정하'], ['돼지'], ['되풀이'], ['되풀이되'], ['뒹굴'], ['드러나'], ['때리'], ['떠들'], ['떨'], ['떨리'], ['떨어뜨리'], ['떨어지'], ['떼'], ['뚱뚱하'], ['마'], ['마비'], ['마약'], ['마찰'], ['막'], ['막히'], ['만취'], ['만취하'], ['말다툼'], ['말장난'], ['망치'], ['맞'], ['맞서'], ['매섭'], ['맵'], ['먼지'], ['멀'], ['멋대로'], ['멍청이'], ['명백하'], ['모르'], ['모순'], ['모자라'], ['모호하'], ['목격되'], ['목격하'], ['몰아내'], ['못'], ['무겁'], ['무기'], ['무너지'], ['무력'], ['무리'], ['무리수'], ['무모'], ['무색하'], ['무섭'], ['무시하'], ['무심하'], ['무용지물'], ['무효'], ['문제'], ['물리'], ['미치'], ['미치광이'], ['민감하'], ['밀리'], ['밀집'], ['밀집되'], ['밀착'], ['밀항'], ['바위'], ['바이러스'], ['박'], ['박대'], ['박탈하'], ['반대'], ['반대하'], ['반박'], ['반발'], ['반발하'], ['반칙'], ['반항하'], ['발각'], ['발각되'], ['발뺌하'], ['밟'], ['방전되'], ['방해'], ['방해하'], ['방화'], ['방황'], ['방황하'], ['배상'], ['배상하'], ['배제하'], ['백혈병'], ['뱀'], ['뱉'], ['버리'], ['버티'], ['번거롭'], ['벌'], ['벌점'], ['범죄'], ['범죄자'], ['범퍼'], ['벼락'], ['변명'], ['변칙'], ['변형'], ['별'], ['병원'], ['보상'], ['보상하'], ['보험'], ['복잡'], ['복잡하'], ['부과'], ['부과되'], ['부과하'], ['부담'], ['부담하'], ['부당'], ['부리'], ['부메랑'], ['부상'], ['부위'], ['부인'], ['부인하'], ['부재'], ['부정'], ['부정하'], ['부족'], ['부족하'], ['부풀'], ['분개하'], ['분노'], ['분노하'], ['불'], ['불만'], ['불법'], ['불신'], ['불쌍하'], ['불안'], ['불안하'], ['불쾌하'], ['불편'], ['불편하'], ['불평하'], ['붕괴'], ['비꼬'], ['비난'], ['비난하'], ['비밀'], ['비싸'], ['비웃'], ['비참하'], ['비판'], ['비판하'], ['빈번하'], ['빗발'], ['빚'], ['빠지'], ['빼'], ['빼앗'], ['뻗'], ['뼈'], ['사각'], ['사고'], ['사기'], ['사라지'], ['사망'], ['사망하'], ['사범'], ['사법'], ['사선'], ['사치'], ['사태'], ['사형'], ['살인'], ['상'], ['상대'], ['상실'], ['상하'], ['상해'], ['새'], ['새끼'], ['새치기'], ['새치기하'], ['생계'], ['서두르'], ['서리'], ['설치'], ['섬뜩'], ['소극'], ['소동'], ['소름'], ['소리치'], ['소문'], ['소송'], ['속이'], ['손해'], ['수상하'], ['수치'], ['숨'], ['숨기'], ['스트레스'], ['슬프'], ['슬픔'], ['습격'], ['습격하'], ['시정'], ['식'], ['신경'], ['신경질'], ['신음'], ['실망'], ['실수'], ['실정'], ['실패'], ['실패하'], ['싫'], ['싫어하'], ['심하'], ['싸늘'], ['싸늘하'], ['싸우'], ['싸움'], ['썩'], ['쓰레기'], ['아슬아슬하'], ['아집'], ['아프'], ['아픔'], ['안일하'], ['암'], ['압박'], ['압박하'], ['야기'], ['야기하'], ['약점'], ['얇'], ['얕'], ['어긋나'], ['어기'], ['어둡'], ['어렵'], ['어리둥절하'], ['어리석'], ['어지럽'], ['억울하'], ['억제'], ['억제하'], ['언'], ['얼룩'], ['얽히'], ['엄청나'], ['없애'], ['엉뚱하'], ['엉터리'], ['여드름'], ['여의'], ['여파'], ['연기'], ['열대'], ['영장'], ['예외'], ['오류'], ['오만'], ['오염'], ['오해'], ['온상'], ['올가미'], ['왜곡'], ['외롭'], ['외치'], ['요구'], ['요구되'], ['요구하'], ['요금'], ['욕설'], ['욕심'], ['용의자'], ['우기'], ['우려'], ['우려되'], ['우려하'], ['우습'], ['울'], ['원인'], ['위기'], ['위로'], ['위로하'], ['위반'], ['위반되'], ['위반자'], ['위반하'], ['위배되'], ['위법'], ['위축되'], ['위험'], ['위험하'], ['위협'], ['위협하'], ['유괴'], ['유기'], ['유기하'], ['유인'], ['유인하'], ['유죄'], ['유출하'], ['유포'], ['은밀'], ['은퇴'], ['음주'], ['의심'], ['의심되'], ['의심하'], ['의존'], ['의존하'], ['이상'], ['이상하'], ['이탈'], ['이탈하'], ['인사불성'], ['인상'], ['인상되'], ['인상하'], ['인위'], ['잃'], ['입원'], ['입원하'], ['잊'], ['자르'], ['자살'], ['자포자기'], ['작'], ['잔혹'], ['잘못'], ['재생'], ['재앙'], ['저리'], ['저조하'], ['저지르'], ['저하'], ['저항'], ['적'], ['전쟁'], ['전치'], ['전혀'], ['절'], ['절단'], ['절도'], ['점령하'], ['접촉'], ['접촉하'], ['정체'], ['정체되'], ['젖'], ['제멋대로'], ['제압하'], ['제외'], ['제외되'], ['제외하'], ['조금'], ['조작'], ['조작하'], ['좁'], ['좌절'], ['좌초되'], ['죄'], ['주저'], ['주저하'], ['죽'], ['죽음'], ['죽이'], ['줄'], ['줄이'], ['중단'], ['중단되'], ['중단하'], ['중상'], ['중지하'], ['지각'], ['지각하'], ['지나치'], ['지독하'], ['지배'], ['지연되'], ['지옥'], ['지적'], ['지적되'], ['지적하'], ['지진'], ['지체'], ['지체되'], ['지치'], ['진술'], ['진술하'], ['질리'], ['질책'], ['짓'], ['징계'], ['쫓'], ['쫓아내'], ['찌푸리'], ['차갑'], ['차단'], ['차단되'], ['차단하'], ['차라리'], ['차별'], ['참'], ['책임'], ['처벌'], ['처벌되'], ['처벌하'], ['처분'], ['처분되'], ['처분하'], ['철수하'], ['체포'], ['체포하'], ['초래'], ['초래되'], ['초래하'], ['총알'], ['축소하'], ['춥'], ['충격'], ['충돌'], ['충돌하'], ['취소되'], ['취소하'], ['취하'], ['치'], ['치기'], ['치료'], ['치열하'], ['침수되'], ['침체'], ['침해'], ['침해되'], ['침해하'], ['타격'], ['타도'], ['탈수'], ['탐욕'], ['터뜨리'], ['터무니없'], ['터지'], ['텅'], ['테러'], ['토하'], ['퇴직'], ['퇴직하'], ['투쟁'], ['파괴'], ['파산'], ['파손'], ['파손되'], ['파열'], ['파장'], ['퍼붓'], ['편파'], ['폐쇄'], ['폐지'], ['폐지하'], ['포기하'], ['포르노'], ['포화'], ['폭력'], ['폭로'], ['폭로되'], ['폭발'], ['폭탄'], ['폭풍'], ['프레스'], ['피곤하'], ['필요'], ['필요하'], ['핑계'], ['하위'], ['함정'], ['항의'], ['항의하'], ['해고되'], ['해이'], ['해치'], ['허수아비'], ['허위'], ['허탕'], ['헤매'], ['호통'], ['혼돈'], ['혼란'], ['혼잡'], ['혼잡하'], ['화'], ['화나'], ['화내'], ['화약'], ['화재'], ['환각'], ['환불'], ['환불하'], ['환상'], ['환자'], ['횡포'], ['후회'], ['훔치'], ['휘'], ['휘두르'], ['흉터'], ['흐리'], ['흔적'], ['흘리'], ['흠'], ['흥청망청'], ['흩어지'], ['힘들']]\n"
          ],
          "name": "stdout"
        }
      ]
    },
    {
      "cell_type": "code",
      "metadata": {
        "id": "Tbd1U7JS-MeQ",
        "colab_type": "code",
        "colab": {
          "base_uri": "https://localhost:8080/",
          "height": 73
        },
        "outputId": "46886a48-d6d2-4cc8-ebc1-70c6757b734c"
      },
      "source": [
        "# 감정단어 파악\n",
        "\n",
        "def cntWordInLine(data, senti):\n",
        "  senti_found = []\n",
        "  for onedata in data:\n",
        "    oneline_word = onedata.split(' ')       # 한 줄의 데이터를 공백 단위로 분리하여 리스트로 저장\n",
        "    senti_temp = 0\n",
        "    for sentiword in senti:      \n",
        "      if sentiword[0] in oneline_word:      # posword[0] 하여 리스트를 문자열로 추출\n",
        "        senti_temp += 1                     # 현재의 감정단어와 일치하면 숫자를 하나 올려 줌 (중복은 계산 안 함)\n",
        "    senti_found.append(senti_temp)          # 현재의 줄에서 찾은 감성단어의 숫자를 해당 위치에 저장\n",
        "  return senti_found\n",
        "      \n",
        "      \n",
        "data_senti_poscnt = cntWordInLine(data_text, positive)      # 발견된 긍정 단어의 숫자 파악\n",
        "data_senti_negcnt = cntWordInLine(data_text, negative)      # 발견된 부정 단어의 숫자 파악\n",
        "\n",
        "print(data_senti_poscnt)\n",
        "print(data_senti_negcnt)"
      ],
      "execution_count": null,
      "outputs": [
        {
          "output_type": "stream",
          "text": [
            "[5, 1, 0, 0, 2, 1, 0, 0, 0, 1, 1, 1, 0, 1, 2, 0, 1, 0, 1, 0, 3, 0, 0, 0, 3, 0, 0, 1, 0, 1, 0, 1, 1, 0, 1, 0, 1, 1, 0, 1, 0, 1, 1, 2, 2, 2, 0, 1, 1, 1, 0, 1, 0, 3, 1, 0, 1, 0, 1, 0, 0, 0, 0, 0, 0, 0, 1, 2, 1, 0, 0, 2, 1, 0, 0, 0, 2, 2, 2, 2, 1, 1, 1, 0, 0, 1, 1, 0, 0, 1, 2, 0, 0, 1, 1, 1, 2, 4, 0, 1, 0, 0, 0, 1, 3, 1, 2, 0, 0, 1, 2, 1, 0, 2, 0, 0, 0, 1, 0, 1, 1, 1, 0, 1, 1, 0, 2, 0, 0, 0, 3, 0, 0, 0, 1, 1, 0, 3, 0, 1, 1, 1, 3, 1, 0, 4, 4, 1, 1, 3, 0, 1, 1, 0, 1, 0, 3, 2, 1, 0, 0, 0, 1, 1, 0, 1, 0, 0, 2, 2, 0, 0, 0, 0, 1, 1, 1, 1, 0, 0, 0, 1, 1, 0, 0, 1, 2, 0, 1, 3, 0, 2, 0, 1, 1, 0, 3, 1, 3, 0, 0, 0, 0, 1, 0, 1, 2, 0, 0, 2, 1, 1, 2, 1, 0, 1, 0, 0, 2, 1, 0, 1, 0, 1, 0, 1, 2, 0, 1, 1, 1, 1, 0, 2, 1, 1, 1, 1, 0, 0, 0, 0, 0, 2, 2, 0, 0, 0, 0, 1, 0, 0, 0, 0, 0, 0, 0, 1, 0, 1, 0, 0, 1, 0, 0, 1, 2, 0, 0, 0, 0, 0, 1, 0, 0, 0, 0, 0, 0, 0, 0, 0, 0, 0, 1, 1, 0, 0, 0, 1, 0, 0, 1, 0, 0, 2, 0, 0, 1, 0, 0, 0, 0, 0, 0, 1, 0, 0, 0, 0, 0, 0, 0, 0, 0, 0, 0, 2, 1, 0, 1, 0, 0, 0, 1, 1, 0, 0, 1, 1, 0, 0, 0, 0, 0, 1, 2, 1, 0, 2, 0, 0, 0, 2, 0, 0, 1, 0, 1, 1, 0, 0, 1, 0, 0, 0, 1, 1, 0, 0, 0, 0, 0, 0, 0, 0, 0, 0, 1, 2, 1, 0, 0, 0, 1, 0, 0, 2, 0, 0, 0, 0, 1, 0, 1, 0, 0, 0, 0, 2, 0, 0, 0, 0, 1, 0, 1, 0, 0, 0, 1, 1, 2, 0, 0, 1, 0, 0, 0, 0, 0, 1, 1, 0, 0, 0, 0, 1, 0, 0, 0, 1, 0, 0, 0, 0, 0, 0, 0, 0, 0, 0, 0, 0, 0, 0, 2, 0, 0, 1, 0, 0, 0, 0, 0, 0, 0, 0, 0, 1, 0, 0, 0, 0, 1, 2, 0, 0, 0, 0, 0, 1, 0, 0, 0, 0, 0, 0, 0, 0, 0, 0, 0, 0, 0, 1, 0, 0, 0, 0, 1, 2, 0, 0, 0, 0, 0, 0, 0, 0, 0, 0, 0, 0]\n",
            "[1, 0, 1, 0, 0, 0, 1, 0, 0, 0, 0, 0, 0, 0, 1, 0, 0, 1, 0, 1, 1, 1, 1, 0, 1, 2, 0, 1, 1, 0, 0, 0, 0, 0, 1, 1, 0, 0, 0, 0, 1, 0, 0, 0, 2, 1, 1, 1, 1, 1, 0, 0, 2, 0, 1, 2, 0, 0, 0, 0, 0, 0, 3, 1, 1, 0, 0, 0, 0, 0, 0, 0, 0, 0, 2, 0, 0, 1, 2, 1, 0, 0, 0, 1, 0, 0, 3, 1, 0, 2, 0, 0, 0, 0, 1, 0, 1, 2, 0, 0, 1, 0, 0, 0, 3, 2, 1, 0, 0, 0, 2, 0, 0, 1, 0, 0, 1, 0, 0, 1, 0, 0, 0, 0, 2, 0, 2, 1, 0, 2, 2, 1, 1, 1, 0, 0, 0, 1, 0, 0, 0, 0, 2, 0, 0, 3, 0, 3, 0, 2, 0, 0, 0, 1, 0, 0, 2, 0, 0, 0, 0, 0, 0, 0, 0, 0, 0, 1, 1, 2, 0, 0, 0, 0, 0, 0, 0, 1, 0, 0, 0, 1, 0, 0, 0, 0, 2, 0, 0, 0, 0, 1, 2, 0, 0, 1, 2, 0, 1, 0, 0, 1, 0, 2, 0, 0, 1, 0, 1, 0, 0, 1, 5, 0, 0, 1, 0, 1, 0, 0, 0, 2, 0, 0, 0, 1, 1, 0, 0, 1, 1, 2, 0, 0, 1, 0, 1, 0, 0, 1, 0, 1, 0, 3, 2, 0, 1, 0, 0, 2, 0, 0, 3, 0, 0, 1, 1, 1, 1, 1, 2, 0, 1, 1, 0, 1, 1, 0, 1, 0, 2, 2, 3, 0, 0, 1, 2, 0, 1, 0, 0, 1, 0, 1, 1, 0, 0, 1, 1, 0, 1, 0, 1, 0, 1, 1, 0, 0, 1, 0, 0, 0, 0, 0, 1, 0, 0, 1, 0, 1, 0, 1, 1, 0, 0, 0, 0, 3, 1, 0, 2, 0, 2, 0, 0, 2, 0, 1, 1, 0, 1, 2, 1, 0, 1, 1, 1, 2, 0, 0, 1, 3, 0, 4, 0, 0, 2, 2, 2, 1, 0, 0, 0, 0, 3, 0, 1, 2, 0, 1, 1, 1, 1, 3, 1, 0, 1, 1, 1, 1, 3, 0, 0, 0, 0, 0, 1, 3, 1, 1, 1, 1, 0, 0, 0, 0, 2, 0, 0, 0, 0, 1, 2, 0, 0, 0, 0, 0, 0, 0, 3, 0, 1, 0, 4, 0, 0, 0, 1, 0, 0, 1, 1, 0, 0, 0, 0, 2, 0, 0, 0, 0, 2, 0, 0, 0, 2, 0, 1, 0, 0, 1, 0, 1, 1, 0, 0, 0, 0, 0, 0, 0, 0, 1, 0, 1, 0, 3, 3, 0, 0, 0, 0, 0, 0, 2, 1, 1, 0, 0, 1, 1, 0, 0, 1, 1, 0, 0, 3, 0, 0, 1, 0, 0, 0, 1, 1, 2, 0, 1, 0, 0, 0, 0, 0, 1, 0, 0, 0, 0, 0, 1, 0, 1]\n"
          ],
          "name": "stdout"
        }
      ]
    },
    {
      "cell_type": "code",
      "metadata": {
        "id": "_Kp3ebhC-Nxv",
        "colab_type": "code",
        "colab": {}
      },
      "source": [
        "# 감정점수 계산\n",
        "# Pandas 데이터프레임으로 저장\n",
        "import pandas as pd\n",
        "newdata = pd.DataFrame({'id':data_id, 'text':data_text, 'original':data_senti, \n",
        "                        'pos':data_senti_poscnt, 'neg':data_senti_negcnt})\n",
        "senti_score = newdata['pos'] - newdata['neg']      # 긍정개수에서 부정개수를 뺌\n",
        "newdata['senti_score'] = senti_score               # 그 수를 senti_score 컬럼에 저장 \n",
        "\n",
        "newdata.loc[newdata.senti_score > 0, 'new'] = 1    # 새로운 긍부정 기호\n",
        "newdata.loc[newdata.senti_score <= 0, 'new'] = 0   # 새로운 긍부정 기호\n",
        "\n",
        "# 처음에 기록된 긍부정과 새로 계산된 긍부정이 같은지 여부를 matched 컬럼에 저장\n",
        "# original 컬럼은 문자로 되어 있으므로 숫자로 변환 뒤 비교 \n",
        "newdata.loc[pd.to_numeric(newdata.original) == newdata.new, 'matched'] = 'True'\n",
        "newdata.loc[pd.to_numeric(newdata.original) != newdata.new, 'matched'] = 'False'"
      ],
      "execution_count": null,
      "outputs": []
    },
    {
      "cell_type": "code",
      "metadata": {
        "id": "mEBwHH7Tt-Xw",
        "colab_type": "code",
        "colab": {
          "base_uri": "https://localhost:8080/",
          "height": 221
        },
        "outputId": "6173e337-d0e4-41c1-8eda-8ebb337ec87f"
      },
      "source": [
        "newdata.head()"
      ],
      "execution_count": null,
      "outputs": [
        {
          "output_type": "execute_result",
          "data": {
            "text/html": [
              "<div>\n",
              "<style scoped>\n",
              "    .dataframe tbody tr th:only-of-type {\n",
              "        vertical-align: middle;\n",
              "    }\n",
              "\n",
              "    .dataframe tbody tr th {\n",
              "        vertical-align: top;\n",
              "    }\n",
              "\n",
              "    .dataframe thead th {\n",
              "        text-align: right;\n",
              "    }\n",
              "</style>\n",
              "<table border=\"1\" class=\"dataframe\">\n",
              "  <thead>\n",
              "    <tr style=\"text-align: right;\">\n",
              "      <th></th>\n",
              "      <th>id</th>\n",
              "      <th>text</th>\n",
              "      <th>original</th>\n",
              "      <th>pos</th>\n",
              "      <th>neg</th>\n",
              "      <th>senti_score</th>\n",
              "      <th>new</th>\n",
              "      <th>matched</th>\n",
              "    </tr>\n",
              "  </thead>\n",
              "  <tbody>\n",
              "    <tr>\n",
              "      <th>0</th>\n",
              "      <td>8132799</td>\n",
              "      <td>디자인 배우 학생 외국 디자이너 일구 전통 통하 발전 문화 산업 부럽 사실 우리나라...</td>\n",
              "      <td>1</td>\n",
              "      <td>5</td>\n",
              "      <td>1</td>\n",
              "      <td>4</td>\n",
              "      <td>1.0</td>\n",
              "      <td>True</td>\n",
              "    </tr>\n",
              "    <tr>\n",
              "      <th>1</th>\n",
              "      <td>4655635</td>\n",
              "      <td>폴리스스토리 시리즈 뉴 없 최고</td>\n",
              "      <td>1</td>\n",
              "      <td>1</td>\n",
              "      <td>0</td>\n",
              "      <td>1</td>\n",
              "      <td>1.0</td>\n",
              "      <td>True</td>\n",
              "    </tr>\n",
              "    <tr>\n",
              "      <th>2</th>\n",
              "      <td>9251303</td>\n",
              "      <td>와 연기 진짜 쩔 지루 생각하 몰입 그래 이런 진짜 영화</td>\n",
              "      <td>1</td>\n",
              "      <td>0</td>\n",
              "      <td>1</td>\n",
              "      <td>-1</td>\n",
              "      <td>0.0</td>\n",
              "      <td>False</td>\n",
              "    </tr>\n",
              "    <tr>\n",
              "      <th>3</th>\n",
              "      <td>10067386</td>\n",
              "      <td>안개 자욱 하 밤하늘 뜨 초승달 같 영화</td>\n",
              "      <td>1</td>\n",
              "      <td>0</td>\n",
              "      <td>0</td>\n",
              "      <td>0</td>\n",
              "      <td>0.0</td>\n",
              "      <td>False</td>\n",
              "    </tr>\n",
              "    <tr>\n",
              "      <th>4</th>\n",
              "      <td>2190435</td>\n",
              "      <td>사랑 해보 사람 처음 끝 웃 있 영화</td>\n",
              "      <td>1</td>\n",
              "      <td>2</td>\n",
              "      <td>0</td>\n",
              "      <td>2</td>\n",
              "      <td>1.0</td>\n",
              "      <td>True</td>\n",
              "    </tr>\n",
              "  </tbody>\n",
              "</table>\n",
              "</div>"
            ],
            "text/plain": [
              "         id                                               text  ...  new  matched\n",
              "0   8132799  디자인 배우 학생 외국 디자이너 일구 전통 통하 발전 문화 산업 부럽 사실 우리나라...  ...  1.0     True\n",
              "1   4655635                                  폴리스스토리 시리즈 뉴 없 최고  ...  1.0     True\n",
              "2   9251303                    와 연기 진짜 쩔 지루 생각하 몰입 그래 이런 진짜 영화  ...  0.0    False\n",
              "3  10067386                             안개 자욱 하 밤하늘 뜨 초승달 같 영화  ...  0.0    False\n",
              "4   2190435                               사랑 해보 사람 처음 끝 웃 있 영화  ...  1.0     True\n",
              "\n",
              "[5 rows x 8 columns]"
            ]
          },
          "metadata": {
            "tags": []
          },
          "execution_count": 13
        }
      ]
    },
    {
      "cell_type": "code",
      "metadata": {
        "id": "HxU2JM5u-O9s",
        "colab_type": "code",
        "colab": {
          "base_uri": "https://localhost:8080/",
          "height": 35
        },
        "outputId": "94f22b74-e810-4a18-93d9-e34725dc6d1f"
      },
      "source": [
        "# 원점수와 비교 및 저장\n",
        "score = newdata.matched.str.count('True').sum() / (newdata.matched.str.count('True').sum() + newdata.matched.str.count('False').sum()) * 100\n",
        "print(score)\n",
        "\n",
        "newdata.to_csv('newfile.csv', sep=',', encoding='cp949', index=False) \t# csv 저장\n",
        "newdata.to_csv('newfile2.txt', sep='\\t', encoding='cp949', index=False) \t# 또는 txt 저장"
      ],
      "execution_count": null,
      "outputs": [
        {
          "output_type": "stream",
          "text": [
            "65.58704453441295\n"
          ],
          "name": "stdout"
        }
      ]
    },
    {
      "cell_type": "code",
      "metadata": {
        "id": "niR68yLq-Qsv",
        "colab_type": "code",
        "colab": {}
      },
      "source": [
        "# 시그모이드 점수 계산\n",
        "import math\n",
        "def sigmoid(x):\n",
        "  return 1 / (1 + math.exp(-x))\n",
        "\n",
        "newdata['sigmoid'] = newdata.senti_score.apply(sigmoid)\n",
        "#sigmoid는 그냥\n",
        "#제일 깔끔한 건 0초과면 긍정, 0 이하면 부정이라고 알아들으면 된다."
      ],
      "execution_count": null,
      "outputs": []
    },
    {
      "cell_type": "code",
      "metadata": {
        "id": "73hv7WuNv8mk",
        "colab_type": "code",
        "colab": {
          "base_uri": "https://localhost:8080/",
          "height": 221
        },
        "outputId": "9fee93b3-d9e4-4b11-f542-2d1b21da440b"
      },
      "source": [
        "newdata.head()"
      ],
      "execution_count": null,
      "outputs": [
        {
          "output_type": "execute_result",
          "data": {
            "text/html": [
              "<div>\n",
              "<style scoped>\n",
              "    .dataframe tbody tr th:only-of-type {\n",
              "        vertical-align: middle;\n",
              "    }\n",
              "\n",
              "    .dataframe tbody tr th {\n",
              "        vertical-align: top;\n",
              "    }\n",
              "\n",
              "    .dataframe thead th {\n",
              "        text-align: right;\n",
              "    }\n",
              "</style>\n",
              "<table border=\"1\" class=\"dataframe\">\n",
              "  <thead>\n",
              "    <tr style=\"text-align: right;\">\n",
              "      <th></th>\n",
              "      <th>id</th>\n",
              "      <th>text</th>\n",
              "      <th>original</th>\n",
              "      <th>pos</th>\n",
              "      <th>neg</th>\n",
              "      <th>senti_score</th>\n",
              "      <th>new</th>\n",
              "      <th>matched</th>\n",
              "      <th>sigmoid</th>\n",
              "    </tr>\n",
              "  </thead>\n",
              "  <tbody>\n",
              "    <tr>\n",
              "      <th>0</th>\n",
              "      <td>8132799</td>\n",
              "      <td>디자인 배우 학생 외국 디자이너 일구 전통 통하 발전 문화 산업 부럽 사실 우리나라...</td>\n",
              "      <td>1</td>\n",
              "      <td>5</td>\n",
              "      <td>1</td>\n",
              "      <td>4</td>\n",
              "      <td>1.0</td>\n",
              "      <td>True</td>\n",
              "      <td>0.982014</td>\n",
              "    </tr>\n",
              "    <tr>\n",
              "      <th>1</th>\n",
              "      <td>4655635</td>\n",
              "      <td>폴리스스토리 시리즈 뉴 없 최고</td>\n",
              "      <td>1</td>\n",
              "      <td>1</td>\n",
              "      <td>0</td>\n",
              "      <td>1</td>\n",
              "      <td>1.0</td>\n",
              "      <td>True</td>\n",
              "      <td>0.731059</td>\n",
              "    </tr>\n",
              "    <tr>\n",
              "      <th>2</th>\n",
              "      <td>9251303</td>\n",
              "      <td>와 연기 진짜 쩔 지루 생각하 몰입 그래 이런 진짜 영화</td>\n",
              "      <td>1</td>\n",
              "      <td>0</td>\n",
              "      <td>1</td>\n",
              "      <td>-1</td>\n",
              "      <td>0.0</td>\n",
              "      <td>False</td>\n",
              "      <td>0.268941</td>\n",
              "    </tr>\n",
              "    <tr>\n",
              "      <th>3</th>\n",
              "      <td>10067386</td>\n",
              "      <td>안개 자욱 하 밤하늘 뜨 초승달 같 영화</td>\n",
              "      <td>1</td>\n",
              "      <td>0</td>\n",
              "      <td>0</td>\n",
              "      <td>0</td>\n",
              "      <td>0.0</td>\n",
              "      <td>False</td>\n",
              "      <td>0.500000</td>\n",
              "    </tr>\n",
              "    <tr>\n",
              "      <th>4</th>\n",
              "      <td>2190435</td>\n",
              "      <td>사랑 해보 사람 처음 끝 웃 있 영화</td>\n",
              "      <td>1</td>\n",
              "      <td>2</td>\n",
              "      <td>0</td>\n",
              "      <td>2</td>\n",
              "      <td>1.0</td>\n",
              "      <td>True</td>\n",
              "      <td>0.880797</td>\n",
              "    </tr>\n",
              "  </tbody>\n",
              "</table>\n",
              "</div>"
            ],
            "text/plain": [
              "         id  ...   sigmoid\n",
              "0   8132799  ...  0.982014\n",
              "1   4655635  ...  0.731059\n",
              "2   9251303  ...  0.268941\n",
              "3  10067386  ...  0.500000\n",
              "4   2190435  ...  0.880797\n",
              "\n",
              "[5 rows x 9 columns]"
            ]
          },
          "metadata": {
            "tags": []
          },
          "execution_count": 16
        }
      ]
    },
    {
      "cell_type": "markdown",
      "metadata": {
        "id": "8stRR50M-TZl",
        "colab_type": "text"
      },
      "source": [
        "# 머신러닝을 이용한 감성분석 "
      ]
    },
    {
      "cell_type": "code",
      "metadata": {
        "id": "FDEOAtfN-Vo0",
        "colab_type": "code",
        "colab": {
          "base_uri": "https://localhost:8080/",
          "height": 91
        },
        "outputId": "fa826e08-eb8a-4a6a-ecb2-9bb2457f3399"
      },
      "source": [
        "# 형태분석된 데이터 로딩\n",
        "def read_data(filename, encoding='cp949'):               # 읽기 함수 정의\n",
        "  with open(filename, 'r', encoding=encoding) as f:\n",
        "    data = [line.split('\\t') for line in f.read().splitlines()]\n",
        "    data = data[1:]                                      # txt 파일의 헤더(id document label)는 제외하기\n",
        "  return data\n",
        "\n",
        "def write_data(data, filename, encoding='cp949'):        # 쓰기 함수 정의\n",
        "  with open(filename, 'w', encoding=encoding) as f:\n",
        "    f.write(data)\n",
        "\n",
        "data = read_data('ratings_morphed.txt', encoding='cp949')\n",
        "\n",
        "print(len(data))\n",
        "print(len(data[0])) \n",
        "print(data[0])"
      ],
      "execution_count": null,
      "outputs": [
        {
          "output_type": "stream",
          "text": [
            "494\n",
            "3\n",
            "['8132799', '디자인 배우 학생 외국 디자이너 일구 전통 통하 발전 문화 산업 부럽 사실 우리나라 그 어렵 시절 끝 열정 지키 노라노 같 전통 있 같 사람 꿈 꾸 이루 나가 있 감사', '1']\n"
          ],
          "name": "stdout"
        }
      ]
    },
    {
      "cell_type": "code",
      "metadata": {
        "id": "esPQz5qo-XOS",
        "colab_type": "code",
        "colab": {
          "base_uri": "https://localhost:8080/",
          "height": 53
        },
        "outputId": "4f0e84a9-cc15-4484-ba5f-4ca0fe3212d0"
      },
      "source": [
        "# 훈련데이터와 테스트데이터 분리 (자동)\n",
        "data_text = [line[1] for line in data]      \t\t# 데이터 본문\n",
        "data_senti = [line[2] for line in data]     \t\t# 데이터 긍부정 부분\n",
        "\n",
        "from sklearn.model_selection import train_test_split\n",
        "train_data_text, test_data_text, train_data_senti, test_data_senti = train_test_split(data_text, data_senti, stratify=data_senti)\n",
        "\n",
        "# Counter 클래스를 이용해 각 분류가 훈련데이터와 테스트데이터에 같은 비율로 들어갔는지 확인해 본다 \n",
        "from collections import Counter\n",
        "train_data_senti_freq = Counter(train_data_senti)\n",
        "print('train_data_senti_freq:', train_data_senti_freq)\n",
        "\n",
        "test_data_senti_freq = Counter(test_data_senti)\n",
        "print('test_data_senti_freq:', test_data_senti_freq)"
      ],
      "execution_count": null,
      "outputs": [
        {
          "output_type": "stream",
          "text": [
            "train_data_senti_freq: Counter({'0': 186, '1': 184})\n",
            "test_data_senti_freq: Counter({'0': 62, '1': 62})\n"
          ],
          "name": "stdout"
        }
      ]
    },
    {
      "cell_type": "code",
      "metadata": {
        "id": "jaQuKY5j-Zak",
        "colab_type": "code",
        "colab": {
          "base_uri": "https://localhost:8080/",
          "height": 53
        },
        "outputId": "764ff5f6-c651-4a36-bb61-c9ff4b7d164f"
      },
      "source": [
        "# 훈련데이터와 테스트데이터 분리 (수동)\n",
        "import random\n",
        "random.shuffle(data)                            \t\t# 랜덤하게 섞는다\n",
        "\n",
        "data_70 = int(len(data)*0.7)\t\t\t\t\t              # 전체 데이터 크기의 70% 숫자를 찾는다\n",
        "train_data = data[:data_70] \t\t\t\t\t              # 앞에서 70% 부분을 잘라 훈련데이터로\n",
        "test_data = data[data_70:] \t\t\t\t\t                # 그 뒷부분을 테스트데이터로\n",
        "\n",
        "print('train data length:', len(train_data))    \t\t# 138212\n",
        "print('test data length:', len(test_data))      \t\t# 59235\n",
        "\n",
        "# 훈련데이터 요소 분리\n",
        "train_data_text = [line[1] for line in train_data]      \t# 훈련데이터 본문\n",
        "train_data_senti = [line[2] for line in train_data]     \t# 훈련데이터 긍부정 부분\n",
        "\n",
        "# 테스트데이터 요소 분리\n",
        "test_data_text = [line[1] for line in test_data]        \t# 테스트데이터 본문\n",
        "test_data_senti = [line[2] for line in test_data]       \t# 테스트데이터 긍부정 부분"
      ],
      "execution_count": null,
      "outputs": [
        {
          "output_type": "stream",
          "text": [
            "train data length: 345\n",
            "test data length: 149\n"
          ],
          "name": "stdout"
        }
      ]
    },
    {
      "cell_type": "code",
      "metadata": {
        "id": "o88BOJOk-akk",
        "colab_type": "code",
        "colab": {
          "base_uri": "https://localhost:8080/",
          "height": 71
        },
        "outputId": "ed37fa87-41cb-4d43-daaf-0681a66a4f02"
      },
      "source": [
        "# 행렬 형태로 변환\n",
        "from sklearn.feature_extraction.text import CountVectorizer\n",
        "vect = CountVectorizer(min_df=5).fit(train_data_text)  # 빈도 5이상의 단어만 대상\n",
        "X_train = vect.transform(train_data_text)\t\t           # 행렬 생성\n",
        "print(\"X_train:\\n\", repr(X_train))\t\t\t               # 생성된 행렬 개요"
      ],
      "execution_count": null,
      "outputs": [
        {
          "output_type": "stream",
          "text": [
            "X_train:\n",
            " <345x58 sparse matrix of type '<class 'numpy.int64'>'\n",
            "\twith 626 stored elements in Compressed Sparse Row format>\n"
          ],
          "name": "stdout"
        }
      ]
    },
    {
      "cell_type": "code",
      "metadata": {
        "id": "yW1SYgUr-b4U",
        "colab_type": "code",
        "colab": {
          "base_uri": "https://localhost:8080/",
          "height": 109
        },
        "outputId": "9c3a6e93-61a2-4e0d-de0b-1f00f0078312"
      },
      "source": [
        "# 행렬 내용 관찰\n",
        "feature_names = vect.get_feature_names()\n",
        "print(\"특성 개수:\", len(feature_names))\n",
        "print(\"처음 20개 특성:\\m\", feature_names[:20])\n",
        "print(\"3000~5000까지의 특성:\\n\", feature_names[3000:5000])"
      ],
      "execution_count": null,
      "outputs": [
        {
          "output_type": "stream",
          "text": [
            "특성 개수: 58\n",
            "처음 20개 특성:\\m ['10점', 'ㅋㅋ', 'ㅠㅠ', 'ㅡㅡ', '감독', '감동', '그런', '나오', '남자', '내내', '내용', '너무', '다시', '대박', '대하', '드라마', '마음', '마지막', '만들', '명작']\n",
            "3000~5000까지의 특성:\n",
            " []\n"
          ],
          "name": "stdout"
        }
      ]
    },
    {
      "cell_type": "code",
      "metadata": {
        "id": "x4XBt_Pq-dkH",
        "colab_type": "code",
        "colab": {
          "base_uri": "https://localhost:8080/",
          "height": 107
        },
        "outputId": "c46b84c0-5480-4d65-a73b-42e79413aad5"
      },
      "source": [
        "# 머신러닝 알고리즘 적용\n",
        "import pandas as pd\n",
        "from sklearn.model_selection import cross_val_score\n",
        "from sklearn.linear_model import LogisticRegression\n",
        "y_train = pd.Series(train_data_senti)\t# 리스트 형태를 종속변수가 될 수 있는 1차원 배열(Series)로 만든다\n",
        "\n",
        "lr = LogisticRegression(solver=\"liblinear\")\n",
        "lr.fit(X_train, y_train)"
      ],
      "execution_count": null,
      "outputs": [
        {
          "output_type": "execute_result",
          "data": {
            "text/plain": [
              "LogisticRegression(C=1.0, class_weight=None, dual=False, fit_intercept=True,\n",
              "                   intercept_scaling=1, l1_ratio=None, max_iter=100,\n",
              "                   multi_class='auto', n_jobs=None, penalty='l2',\n",
              "                   random_state=None, solver='liblinear', tol=0.0001, verbose=0,\n",
              "                   warm_start=False)"
            ]
          },
          "metadata": {
            "tags": []
          },
          "execution_count": 34
        }
      ]
    },
    {
      "cell_type": "code",
      "metadata": {
        "id": "NpWUMi9S-esy",
        "colab_type": "code",
        "colab": {
          "base_uri": "https://localhost:8080/",
          "height": 35
        },
        "outputId": "d0e6decf-dfd1-4b47-a16c-2e5fb286f4e6"
      },
      "source": [
        "# 테스트 데이터 입력\n",
        "X_test = vect.transform(test_data_text)\n",
        "y_test = pd.Series(test_data_senti)\n",
        "\n",
        "print(\"테스트 데이터 점수:\", lr.score(X_test, y_test))"
      ],
      "execution_count": null,
      "outputs": [
        {
          "output_type": "stream",
          "text": [
            "테스트 데이터 점수: 0.6510067114093959\n"
          ],
          "name": "stdout"
        }
      ]
    },
    {
      "cell_type": "code",
      "metadata": {
        "id": "n57Go_QM-f7b",
        "colab_type": "code",
        "colab": {
          "base_uri": "https://localhost:8080/",
          "height": 89
        },
        "outputId": "41b68a99-2cd5-4260-9b83-9a15f382132e"
      },
      "source": [
        "# 그리드 서치를 통한 최적 매개변수 찾기\n",
        "'''\n",
        "from sklearn.model_selection import GridSearchCV\n",
        "param_grid = {'C': [0.01, 0.1, 1, 3, 5]}\t\t\t# 적절한 C 값의 범위를 설정한다\n",
        "grid = GridSearchCV(LogisticRegression(solver=\"liblinear\"), param_grid, cv=5)\n",
        "grid.fit(X_train, y_train)\n",
        "\n",
        "print(\"최고 교차 검증 점수:\", round(grid.best_score_, 3))\n",
        "print(\"최적의 매개변수:\", grid.best_params_)\n",
        "\n",
        "X_test = vect.transform(test_data_text)\n",
        "y_test = pd.Series(test_data_senti)\n",
        "\n",
        "print(\"테스트 데이터 점수:\", grid.score(X_test, y_test))\n",
        "'''"
      ],
      "execution_count": null,
      "outputs": [
        {
          "output_type": "execute_result",
          "data": {
            "application/vnd.google.colaboratory.intrinsic+json": {
              "type": "string"
            },
            "text/plain": [
              "'\\nfrom sklearn.model_selection import GridSearchCV\\nparam_grid = {\\'C\\': [0.01, 0.1, 1, 3, 5]}\\t\\t\\t# 적절한 C 값의 범위를 설정한다\\ngrid = GridSearchCV(LogisticRegression(solver=\"liblinear\"), param_grid, cv=5)\\ngrid.fit(X_train, y_train)\\n\\nprint(\"최고 교차 검증 점수:\", round(grid.best_score_, 3))\\nprint(\"최적의 매개변수:\", grid.best_params_)\\n\\nX_test = vect.transform(test_data_text)\\ny_test = pd.Series(test_data_senti)\\n\\nprint(\"테스트 데이터 점수:\", grid.score(X_test, y_test))\\n'"
            ]
          },
          "metadata": {
            "tags": []
          },
          "execution_count": 37
        }
      ]
    },
    {
      "cell_type": "markdown",
      "metadata": {
        "id": "4mopAL-J-hha",
        "colab_type": "text"
      },
      "source": [
        "# 1개 데이터 예측 "
      ]
    },
    {
      "cell_type": "code",
      "metadata": {
        "id": "_yj-Z7J6-kZn",
        "colab_type": "code",
        "colab": {
          "base_uri": "https://localhost:8080/",
          "height": 107
        },
        "outputId": "53062f48-0519-4331-dc9e-b6cde78077d2"
      },
      "source": [
        "# 형태소분석기 시작\n",
        "import rhinoMorph\n",
        "rn = rhinoMorph.startRhino()\n",
        "\n",
        "# 형태소 분석\n",
        "new_input = '오늘은 정말 재미있는 하루구나!'\n",
        "inputdata = []\n",
        "morphed_input = rhinoMorph.onlyMorph_list(rn, new_input, pos=['NNG', 'NNP', 'VV', 'VA', 'XR', 'IC', 'MM', 'MAG', 'MAJ'])\n",
        "morphed_input = ' '.join(morphed_input) # ['오늘', '정말', '재미있', '하루＇]를 한 개 문자열로 변환\n",
        "\n",
        "inputdata.append(morphed_input)         # 분석 결과를 리스트로 만들기\n",
        "print('input data:', inputdata)         # ['오늘 정말 재미있 하루']"
      ],
      "execution_count": null,
      "outputs": [
        {
          "output_type": "stream",
          "text": [
            "filepath:  /usr/local/lib/python3.6/dist-packages\n",
            "classpath:  /usr/local/lib/python3.6/dist-packages/rhinoMorph/lib/rhino.jar\n",
            "JVM is already started~\n",
            "RHINO started!\n",
            "input data: ['오늘 정말 재미있 하루']\n"
          ],
          "name": "stdout"
        }
      ]
    },
    {
      "cell_type": "code",
      "metadata": {
        "id": "lqOYkMZn-mxF",
        "colab_type": "code",
        "colab": {
          "base_uri": "https://localhost:8080/",
          "height": 35
        },
        "outputId": "03a2086b-ddae-44f6-ad05-a2fdb92098b5"
      },
      "source": [
        "X_input = vect.transform(inputdata)\t    # 앞에서 만든 11445 컬럼의 행렬에 적용\n",
        "result = lr.predict(X_input) \t          # 0은 부정,1은 긍정\n",
        "\n",
        "if result == \"0\":\n",
        "  print(\"부정적인 글입니다\")\n",
        "else:\n",
        "  print(\"긍정적인 글입니다\")"
      ],
      "execution_count": null,
      "outputs": [
        {
          "output_type": "stream",
          "text": [
            "긍정적인 글입니다\n"
          ],
          "name": "stdout"
        }
      ]
    }
  ]
}